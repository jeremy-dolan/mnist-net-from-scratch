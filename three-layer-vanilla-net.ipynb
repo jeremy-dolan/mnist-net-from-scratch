{
 "cells": [
  {
   "cell_type": "markdown",
   "metadata": {},
   "source": [
    "Let's implement a 3-layer neural network manually to make sure I understand basic NN architecture\n",
    "\n",
    "This notebook uses LeCun et al's MNIST database of handwritten digits to train and test a 3-layer fully connected neural network, without using PyTorch or TensorFlow."
   ]
  },
  {
   "cell_type": "markdown",
   "metadata": {},
   "source": [
    "Verify dataset exists or download it:"
   ]
  },
  {
   "cell_type": "code",
   "execution_count": 1,
   "metadata": {},
   "outputs": [
    {
     "name": "stdout",
     "output_type": "stream",
     "text": [
      "Downloading training set images from https://cseweb.ucsd.edu/~weijian/static/datasets/mnist/train-images-idx3-ubyte.gz\n",
      "training set images saved to datasets/train-images-idx3-ubyte.gz\n",
      "Downloading training set labels from https://cseweb.ucsd.edu/~weijian/static/datasets/mnist/train-labels-idx1-ubyte.gz\n",
      "training set labels saved to datasets/train-labels-idx1-ubyte.gz\n",
      "Downloading test set images from https://cseweb.ucsd.edu/~weijian/static/datasets/mnist/t10k-images-idx3-ubyte.gz\n",
      "test set images saved to datasets/t10k-images-idx3-ubyte.gz\n",
      "Downloading test set labels from https://cseweb.ucsd.edu/~weijian/static/datasets/mnist/t10k-labels-idx1-ubyte.gz\n",
      "test set labels saved to datasets/t10k-labels-idx1-ubyte.gz\n"
     ]
    }
   ],
   "source": [
    "import os\n",
    "import requests\n",
    "\n",
    "datasets = {\n",
    "    'training set images': 'train-images-idx3-ubyte.gz',\n",
    "    'training set labels': 'train-labels-idx1-ubyte.gz',\n",
    "    'test set images': 't10k-images-idx3-ubyte.gz',\n",
    "    'test set labels': 't10k-labels-idx1-ubyte.gz',\n",
    "}\n",
    "remote_path = 'http://yann.lecun.com/exdb/mnist/'\n",
    "remote_path = 'https://cseweb.ucsd.edu/~weijian/static/datasets/mnist/' # lecun's site gives http error 403 (2024/05/26)\n",
    "local_path = 'datasets'\n",
    "\n",
    "if not os.path.exists(local_path):\n",
    "    os.mkdir(local_path)\n",
    "\n",
    "for dataset_name, filename in datasets.items():\n",
    "    local_file = os.path.join(local_path, filename)\n",
    "    if os.path.exists(local_file):\n",
    "        print(f'{dataset_name} ({local_file}) exists')\n",
    "    else:\n",
    "        print(f'Downloading {dataset_name} from {remote_path + filename}')\n",
    "        response = requests.get(remote_path + filename)\n",
    "        response.raise_for_status()\n",
    "        # Open file in write-binary mode, write response content to it:\n",
    "        with open(local_file, 'wb') as file:\n",
    "            file.write(response.content)\n",
    "            print(f\"{dataset_name} saved to {local_file}\")\n"
   ]
  },
  {
   "cell_type": "markdown",
   "metadata": {},
   "source": [
    "Load the training data.\n",
    "\n",
    "Format spec:\n",
    "\n",
    "<small><pre>\n",
    "TRAINING SET LABEL FILE (train-labels-idx1-ubyte):\n",
    "[offset] [type]          [value]          [description]\n",
    "0000     32 bit integer  0x00000801(2049) magic number (MSB first)\n",
    "0004     32 bit integer  60000            number of items\n",
    "0008     unsigned byte   ??               label (values 0 to 9)\n",
    "........\n",
    "xxxx     unsigned byte   ??               label\n",
    "\n",
    "TRAINING SET IMAGE FILE (train-images-idx3-ubyte):\n",
    "[offset] [type]          [value]          [description]\n",
    "0000     32 bit integer  0x00000803(2051) magic number\n",
    "0004     32 bit integer  60000            number of images\n",
    "0008     32 bit integer  28               number of rows\n",
    "0012     32 bit integer  28               number of columns\n",
    "0016     unsigned byte   ??               pixel (organized row-wise, values 0..255, 0 means background, 255 means foreground)\n",
    "........\n",
    "xxxx     unsigned byte   ??               pixel\n",
    "</pre></small>"
   ]
  },
  {
   "cell_type": "code",
   "execution_count": null,
   "metadata": {},
   "outputs": [],
   "source": [
    "import gzip\n",
    "import struct\n",
    "import numpy as np\n",
    "\n",
    "label_file = local_path + '/' + datasets['training set labels']\n",
    "image_file = local_path + '/' + datasets['training set images']\n",
    "\n",
    "def check_data(label_file:str, image_file:str):\n",
    "    '''check if data files look correct and have the same number of records'''\n",
    "    with gzip.open(label_file, 'rb') as gz_labels:\n",
    "        labels_data_header = gz_labels.read(8)\n",
    "        labels_magic_num = struct.unpack('>i', labels_data_header[0:4])[0]\n",
    "        labels_count = struct.unpack('>i', labels_data_header[4:8])[0]\n",
    "    with open(label_file, 'rb') as labels:\n",
    "        # gzip stores the uncompressed size as the last 4 bytes of the file\n",
    "        labels.seek(-4, 2)\n",
    "        file_footer = labels.read(4)\n",
    "        labels_data_size = struct.unpack('<I', file_footer)[0]\n",
    "    with gzip.open(image_file, 'rb') as gz_images:\n",
    "        images_data_header = gz_images.read(16)\n",
    "        images_magic_num = struct.unpack('>i', images_data_header[0:4])[0]\n",
    "        images_count = struct.unpack('>i', images_data_header[4:8])[0]\n",
    "        image_format_rows = struct.unpack('>i', images_data_header[8:12])[0]\n",
    "        image_format_cols = struct.unpack('>i', images_data_header[12:16])[0]\n",
    "    with open(image_file, 'rb') as images:\n",
    "        images.seek(-4, 2)\n",
    "        file_footer = images.read(4)\n",
    "        images_data_size = struct.unpack('<I', file_footer)[0]\n",
    "\n",
    "    assert labels_magic_num == 2049\n",
    "    assert images_magic_num == 2051\n",
    "    assert labels_count == images_count\n",
    "    assert labels_data_size == labels_count + 8\n",
    "    assert images_data_size == images_count*image_format_rows*image_format_cols + 16\n",
    "\n",
    "    return(images_count, [image_format_rows, image_format_cols])\n",
    "\n",
    "\n",
    "(num_records, image_dimensions) = check_data(label_file, image_file)\n",
    "\n",
    "with gzip.open(image_file, 'rb') as f:\n",
    "    f.seek(8)\n",
    "    image_data = f.read()\n",
    "    np.frombuffer(\n",
    "\n",
    "    # for i, label in enumerate(struct.unpack('>i', x)[0] for x in image_data[8:]):\n",
    "    #     # rl = struct.unpack('>i', label)[0]\n",
    "    #     print(i, label)\n",
    "    #     # data[0]['label'] = \n",
    "\n",
    "# def load_data(label_file, image_file):\n",
    "#     '''Take a gzipped label and image file and load them into a DF'''"
   ]
  }
 ],
 "metadata": {
  "kernelspec": {
   "display_name": "Python 3",
   "language": "python",
   "name": "python3"
  },
  "language_info": {
   "codemirror_mode": {
    "name": "ipython",
    "version": 3
   },
   "file_extension": ".py",
   "mimetype": "text/x-python",
   "name": "python",
   "nbconvert_exporter": "python",
   "pygments_lexer": "ipython3",
   "version": "3.11.2"
  }
 },
 "nbformat": 4,
 "nbformat_minor": 2
}
